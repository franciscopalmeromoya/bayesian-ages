{
 "cells": [
  {
   "cell_type": "code",
   "execution_count": 1,
   "metadata": {},
   "outputs": [
    {
     "name": "stderr",
     "output_type": "stream",
     "text": [
      "Using Theano backend.\n",
      "WARNING (theano.tensor.blas): Using NumPy C-API based implementation for BLAS functions.\n"
     ]
    }
   ],
   "source": [
    "import keras\n",
    "from keras import layers\n",
    "from keras import backend as k\n",
    "\n",
    "import theano\n",
    "import theano.tensor as T\n",
    "\n",
    "import pandas as pd\n",
    "import numpy as np"
   ]
  },
  {
   "cell_type": "code",
   "execution_count": 2,
   "metadata": {},
   "outputs": [],
   "source": [
    "BTSettl = pd.read_csv('.\\data\\BT-Settl_all_Myr_Gaia+2MASS+PanSTARRS.csv')\n",
    "train_x = np.array(BTSettl[['age_Myr', 'M/Ms']])\n",
    "train_y = np.array(BTSettl[['Li', 'G', 'G_BP', 'G_RP', 'J', 'H', 'K', 'g_p1', 'r_p1', 'i_p1', 'y_p1', 'z_p1']])"
   ]
  },
  {
   "cell_type": "code",
   "execution_count": 3,
   "metadata": {},
   "outputs": [],
   "source": [
    "inputs = layers.Input(shape = (2,))\n",
    "dense = layers.Dense(32, activation=\"relu\")(inputs)\n",
    "dropout = layers.Dropout(0.2)(dense)\n",
    "dense = layers.Dense(64, activation=\"relu\")(dropout)\n",
    "outputs = layers.Dense(12)(dense)\n",
    "\n",
    "callback = keras.callbacks.EarlyStopping(monitor = 'loss', min_delta = 0.001, patience = 1000, mode = 'min', restore_best_weights = True)"
   ]
  },
  {
   "cell_type": "code",
   "execution_count": 48,
   "metadata": {},
   "outputs": [],
   "source": [
    "def custom_loss(y_true, y_pred): \n",
    "    return T.mean(T.square(y_true - y_pred))\n",
    "\n",
    "class TheanoModel(keras.Model):  \n",
    "    def __init__(self, *args, **kwargs):\n",
    "        super().__init__(*args, **kwargs)   \n",
    "           \n",
    "    def train_step(self, data):\n",
    "        x, y = data\n",
    "        with theano.gradient.zero_grad():\n",
    "            with theano.gradient.disconnected_grad(y):\n",
    "                y_pred = self(x, training=True)\n",
    "                loss = custom_loss(y, y_pred)\n",
    "                gradients = theano.grad(loss, self.trainable_weights)\n",
    "        self.optimizer.apply_gradients(zip(gradients, self.trainable_weights))\n",
    "        self.compiled_metrics.update_state(y, y_pred)\n",
    "        \n",
    "        return {'loss': loss, 'gradients': gradients, **{m.name: m.result() for m in self.metrics}}"
   ]
  },
  {
   "cell_type": "code",
   "execution_count": 50,
   "metadata": {},
   "outputs": [],
   "source": [
    "theano_model = TheanoModel(inputs, outputs)"
   ]
  },
  {
   "cell_type": "code",
   "execution_count": 51,
   "metadata": {},
   "outputs": [],
   "source": [
    "theano_model.compile(optimizer='adam', loss = custom_loss, metrics=['accuracy'])"
   ]
  },
  {
   "cell_type": "code",
   "execution_count": 52,
   "metadata": {},
   "outputs": [
    {
     "name": "stdout",
     "output_type": "stream",
     "text": [
      "Epoch 1/5\n",
      "838/838 [==============================] - 0s 84us/step - loss: 17.8695 - accuracy: 0.5370\n",
      "Epoch 2/5\n",
      "838/838 [==============================] - 0s 61us/step - loss: 12.1204 - accuracy: 0.5501\n",
      "Epoch 3/5\n",
      "838/838 [==============================] - 0s 97us/step - loss: 9.8325 - accuracy: 0.7100\n",
      "Epoch 4/5\n",
      "838/838 [==============================] - 0s 93us/step - loss: 9.9326 - accuracy: 0.6838\n",
      "Epoch 5/5\n",
      "838/838 [==============================] - 0s 144us/step - loss: 9.0217 - accuracy: 0.6337\n"
     ]
    }
   ],
   "source": [
    "history = theano_model.fit(train_x, train_y, epochs=5)"
   ]
  },
  {
   "cell_type": "code",
   "execution_count": 53,
   "metadata": {},
   "outputs": [
    {
     "ename": "KeyError",
     "evalue": "'gradients'",
     "output_type": "error",
     "traceback": [
      "\u001b[1;31m---------------------------------------------------------------------------\u001b[0m",
      "\u001b[1;31mKeyError\u001b[0m                                  Traceback (most recent call last)",
      "\u001b[1;32m<ipython-input-53-8e312331b7b8>\u001b[0m in \u001b[0;36m<module>\u001b[1;34m\u001b[0m\n\u001b[1;32m----> 1\u001b[1;33m \u001b[0mhistory\u001b[0m\u001b[1;33m.\u001b[0m\u001b[0mhistory\u001b[0m\u001b[1;33m[\u001b[0m\u001b[1;34m'gradients'\u001b[0m\u001b[1;33m]\u001b[0m\u001b[1;33m\u001b[0m\u001b[1;33m\u001b[0m\u001b[0m\n\u001b[0m",
      "\u001b[1;31mKeyError\u001b[0m: 'gradients'"
     ]
    }
   ],
   "source": [
    "history.history['gradients']"
   ]
  },
  {
   "cell_type": "code",
   "execution_count": 47,
   "metadata": {},
   "outputs": [
    {
     "data": {
      "text/plain": [
       "[<matplotlib.lines.Line2D at 0x22194033dc0>]"
      ]
     },
     "execution_count": 47,
     "metadata": {},
     "output_type": "execute_result"
    },
    {
     "data": {
      "image/png": "[encoded data removed]",
      "text/plain": [
       "<Figure size 432x288 with 1 Axes>"
      ]
     },
     "metadata": {
      "needs_background": "light"
     },
     "output_type": "display_data"
    }
   ],
   "source": [
    "y = history.history['loss']\n",
    "x = range(len(y))\n",
    "\n",
    "import matplotlib.pyplot as plt\n",
    "\n",
    "plt.plot(x, y)"
   ]
  },
  {
   "cell_type": "code",
   "execution_count": null,
   "metadata": {},
   "outputs": [],
   "source": []
  }
 ],
 "metadata": {
  "kernelspec": {
   "display_name": "base",
   "language": "python",
   "name": "python3"
  },
  "language_info": {
   "codemirror_mode": {
    "name": "ipython",
    "version": 3
   },
   "file_extension": ".py",
   "mimetype": "text/x-python",
   "name": "python",
   "nbconvert_exporter": "python",
   "pygments_lexer": "ipython3",
   "version": "3.8.8"
  },
  "orig_nbformat": 4
 },
 "nbformat": 4,
 "nbformat_minor": 2
}
